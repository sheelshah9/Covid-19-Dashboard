{
 "cells": [
  {
   "cell_type": "code",
   "execution_count": 1,
   "metadata": {},
   "outputs": [],
   "source": [
    "import sys\n",
    "sys.path.append('../')\n",
    "from helper import Data\n",
    "import numpy as np"
   ]
  },
  {
   "cell_type": "code",
   "execution_count": 2,
   "metadata": {},
   "outputs": [],
   "source": [
    "data = Data()\n",
    "\n",
    "d = Data()\n",
    "\n",
    "d.fetch_data()\n",
    "df = d.preprocess_data(d.df_us_cases)\n",
    "df = d.daily_data(df)"
   ]
  },
  {
   "cell_type": "code",
   "execution_count": 23,
   "metadata": {
    "scrolled": true
   },
   "outputs": [],
   "source": [
    "from sklearn.preprocessing import StandardScaler, MinMaxScaler\n",
    "num_estimators = 20\n",
    "scaler = MinMaxScaler()\n",
    "train = df['Total'].tolist()\n",
    "train = np.array(train).reshape((-1, 1))\n",
    "train = scaler.fit_transform(train)"
   ]
  },
  {
   "cell_type": "code",
   "execution_count": 24,
   "metadata": {},
   "outputs": [],
   "source": [
    "train = train.ravel()"
   ]
  },
  {
   "cell_type": "code",
   "execution_count": 115,
   "metadata": {},
   "outputs": [],
   "source": [
    "lookback = 7\n",
    "forecast_interval = 7\n",
    "x_train, y_train, pred_train = [], [], []\n",
    "for i in range(len(train) - lookback - forecast_interval + 1):\n",
    "    x = train[i:i + lookback]\n",
    "    x_train.append(x)\n",
    "    y_train.append(train[i + lookback:i + lookback + forecast_interval])\n",
    "    \n",
    "for i in range(0,len(train)-lookback+1):\n",
    "    pred_train.append(train[i:i+lookback])\n",
    "    \n",
    "pred_train = np.array(pred_train)\n",
    "pred_train = pred_train.reshape((pred_train.shape[0], pred_train.shape[1],1))"
   ]
  },
  {
   "cell_type": "code",
   "execution_count": 116,
   "metadata": {},
   "outputs": [
    {
     "name": "stdout",
     "output_type": "stream",
     "text": [
      "(163, 7)\n",
      "(163, 7)\n",
      "176\n",
      "(170, 7, 1)\n"
     ]
    }
   ],
   "source": [
    "print(np.array(x_train).shape)\n",
    "print(np.array(y_train).shape)\n",
    "print(len(df))\n",
    "print(np.array(pred_train).shape)"
   ]
  },
  {
   "cell_type": "code",
   "execution_count": 117,
   "metadata": {},
   "outputs": [
    {
     "name": "stdout",
     "output_type": "stream",
     "text": [
      "[0.0000000e+00 1.2944146e-05 0.0000000e+00 3.8832438e-05 0.0000000e+00\n",
      " 0.0000000e+00 0.0000000e+00]\n",
      "[0.0000000e+00 1.2944146e-05 0.0000000e+00 3.8832438e-05 0.0000000e+00\n",
      " 0.0000000e+00 0.0000000e+00 0.0000000e+00 2.5888292e-05 1.2944146e-05\n",
      " 0.0000000e+00 3.8832438e-05 0.0000000e+00 0.0000000e+00 0.0000000e+00\n",
      " 0.0000000e+00 0.0000000e+00 0.0000000e+00 0.0000000e+00 1.2944146e-05]\n",
      "[0.0000000e+00 2.5888292e-05 1.2944146e-05 0.0000000e+00 3.8832438e-05\n",
      " 0.0000000e+00 0.0000000e+00]\n"
     ]
    }
   ],
   "source": [
    "print(x_train[0])\n",
    "print(train[:20])\n",
    "print(y_train[0])"
   ]
  },
  {
   "cell_type": "code",
   "execution_count": 31,
   "metadata": {},
   "outputs": [],
   "source": [
    "x_train, y_train = np.array(x_train), np.array(y_train)\n",
    "x_train = x_train.reshape((x_train.shape[0], x_train.shape[1], 1))"
   ]
  },
  {
   "cell_type": "code",
   "execution_count": 94,
   "metadata": {},
   "outputs": [
    {
     "data": {
      "text/plain": [
       "(161, 7, 1)"
      ]
     },
     "execution_count": 94,
     "metadata": {},
     "output_type": "execute_result"
    }
   ],
   "source": [
    "x_train.shape"
   ]
  },
  {
   "cell_type": "code",
   "execution_count": 35,
   "metadata": {},
   "outputs": [
    {
     "data": {
      "text/plain": [
       "(162, 7, 1)"
      ]
     },
     "execution_count": 35,
     "metadata": {},
     "output_type": "execute_result"
    }
   ],
   "source": [
    "x_test = np.array(y_train[-1]).reshape((1,x_train.shape[1],1))\n",
    "np.concatenate([x_train, x_test]).shape"
   ]
  },
  {
   "cell_type": "code",
   "execution_count": 99,
   "metadata": {},
   "outputs": [],
   "source": [
    "from tensorflow.keras import Sequential\n",
    "from tensorflow.keras.layers import LSTM, Dropout, Dense\n",
    "\n",
    "model = Sequential()\n",
    "model.add(LSTM(50, input_shape=(7,1)))\n",
    "# model.add(LSTM(50, activation='relu'))\n",
    "# model.add(Dropout(0.2))\n",
    "model.add(Dense(7))\n",
    "\n",
    "model.compile(loss='mean_squared_error', optimizer='adam')\n",
    "y_hat = []\n",
    "pred_hat = []\n",
    "for _ in range(20):\n",
    "    model.fit(x_train, y_train, epochs=100, verbose=0, shuffle=True)\n",
    "    x_test = np.array(y_train[-1]).reshape((1,x_train.shape[1],1))\n",
    "    y_hat.append(scaler.inverse_transform(model.predict(pred_train)))\n",
    "    pred_hat.append(scaler.inverse_transform(model.predict(x_test)))"
   ]
  },
  {
   "cell_type": "code",
   "execution_count": 140,
   "metadata": {},
   "outputs": [
    {
     "data": {
      "text/plain": [
       "array([[65695.48 , 64244.9  , 68901.695, 70802.55 , 71321.46 , 77086.695,\n",
       "        75212.48 ]], dtype=float32)"
      ]
     },
     "execution_count": 140,
     "metadata": {},
     "output_type": "execute_result"
    }
   ],
   "source": [
    "x_test = np.array(y_train[-1]).reshape((1,x_train.shape[1],1))\n",
    "scaler.inverse_transform(model.predict(x_test))"
   ]
  },
  {
   "cell_type": "code",
   "execution_count": 97,
   "metadata": {},
   "outputs": [],
   "source": [
    "y_hat = np.array(y_hat)\n",
    "pred_hat = np.array(pred_hat)"
   ]
  },
  {
   "cell_type": "code",
   "execution_count": 98,
   "metadata": {},
   "outputs": [
    {
     "data": {
      "text/plain": [
       "(20, 1, 7)"
      ]
     },
     "execution_count": 98,
     "metadata": {},
     "output_type": "execute_result"
    }
   ],
   "source": [
    "y_hat.shape"
   ]
  },
  {
   "cell_type": "code",
   "execution_count": 75,
   "metadata": {},
   "outputs": [],
   "source": [
    "ans = []\n",
    "for i in range(20):\n",
    "    ans.append(y_hat[i,0:y_hat.shape[1]:7].ravel())\n",
    "    "
   ]
  },
  {
   "cell_type": "code",
   "execution_count": 76,
   "metadata": {},
   "outputs": [],
   "source": [
    "ans = np.array(ans)"
   ]
  },
  {
   "cell_type": "code",
   "execution_count": 81,
   "metadata": {},
   "outputs": [
    {
     "data": {
      "text/plain": [
       "(20, 168)"
      ]
     },
     "execution_count": 81,
     "metadata": {},
     "output_type": "execute_result"
    }
   ],
   "source": [
    "ans.shape"
   ]
  },
  {
   "cell_type": "code",
   "execution_count": 86,
   "metadata": {},
   "outputs": [],
   "source": [
    "low, high = [], []\n",
    "pred = []\n",
    "for i in range(ans.shape[1]):\n",
    "    low.append(max(ans[:,i].min(),0))\n",
    "    high.append(ans[:,i].max())\n",
    "    pred.append(ans[:,i].mean())"
   ]
  },
  {
   "cell_type": "code",
   "execution_count": 87,
   "metadata": {},
   "outputs": [
    {
     "data": {
      "text/plain": [
       "[0,\n",
       " 0,\n",
       " 0,\n",
       " 0,\n",
       " 4.687067,\n",
       " 188.42146,\n",
       " 270.80804,\n",
       " 0,\n",
       " 0,\n",
       " 0,\n",
       " 0,\n",
       " 5.898118,\n",
       " 189.70044,\n",
       " 272.2925,\n",
       " 0,\n",
       " 0,\n",
       " 0,\n",
       " 0,\n",
       " 2.771488,\n",
       " 187.3785,\n",
       " 269.57397,\n",
       " 0,\n",
       " 0,\n",
       " 0,\n",
       " 0,\n",
       " 1.5500762,\n",
       " 186.10298,\n",
       " 268.61792,\n",
       " 0,\n",
       " 0,\n",
       " 0,\n",
       " 0,\n",
       " 2.0940132,\n",
       " 186.38617,\n",
       " 269.08356,\n",
       " 0,\n",
       " 0,\n",
       " 0,\n",
       " 0,\n",
       " 77.79967,\n",
       " 267.90158,\n",
       " 358.0043,\n",
       " 217.29588,\n",
       " 299.1132,\n",
       " 490.7134,\n",
       " 446.47952,\n",
       " 699.8378,\n",
       " 943.95013,\n",
       " 1191.0842,\n",
       " 1767.3872,\n",
       " 2213.6453,\n",
       " 2523.612,\n",
       " 2934.102,\n",
       " 3148.1187,\n",
       " 3738.987,\n",
       " 4030.8098,\n",
       " 9382.222,\n",
       " 9548.464,\n",
       " 9745.882,\n",
       " 10345.816,\n",
       " 10102.783,\n",
       " 11754.646,\n",
       " 10519.738,\n",
       " 22627.232,\n",
       " 23100.938,\n",
       " 23201.543,\n",
       " 24131.918,\n",
       " 23259.805,\n",
       " 25439.652,\n",
       " 23709.012,\n",
       " 31114.68,\n",
       " 32155.928,\n",
       " 31583.46,\n",
       " 29241.5,\n",
       " 28969.568,\n",
       " 29382.729,\n",
       " 31258.291,\n",
       " 28649.248,\n",
       " 28971.496,\n",
       " 27235.0,\n",
       " 23437.523,\n",
       " 22690.871,\n",
       " 22914.29,\n",
       " 25246.158,\n",
       " 27773.21,\n",
       " 27189.164,\n",
       " 25864.016,\n",
       " 23015.244,\n",
       " 22715.857,\n",
       " 23305.777,\n",
       " 25397.605,\n",
       " 27365.34,\n",
       " 28061.412,\n",
       " 26710.271,\n",
       " 21822.986,\n",
       " 19321.143,\n",
       " 18913.928,\n",
       " 21694.031,\n",
       " 25755.137,\n",
       " 26499.111,\n",
       " 25379.852,\n",
       " 21435.426,\n",
       " 19738.633,\n",
       " 19222.951,\n",
       " 21605.508,\n",
       " 21789.326,\n",
       " 21696.78,\n",
       " 19529.418,\n",
       " 17066.463,\n",
       " 16047.619,\n",
       " 16226.862,\n",
       " 18169.707,\n",
       " 22490.836,\n",
       " 22740.781,\n",
       " 20738.541,\n",
       " 18573.06,\n",
       " 18053.684,\n",
       " 18593.639,\n",
       " 20226.588,\n",
       " 19426.04,\n",
       " 18629.1,\n",
       " 17533.863,\n",
       " 16416.984,\n",
       " 15548.227,\n",
       " 15029.428,\n",
       " 16501.691,\n",
       " 20582.512,\n",
       " 21071.922,\n",
       " 20419.248,\n",
       " 17981.13,\n",
       " 17500.158,\n",
       " 16961.47,\n",
       " 18588.297,\n",
       " 19726.7,\n",
       " 19971.52,\n",
       " 19290.846,\n",
       " 16975.574,\n",
       " 16563.42,\n",
       " 16302.203,\n",
       " 17815.377,\n",
       " 23371.436,\n",
       " 23673.732,\n",
       " 23167.492,\n",
       " 21643.955,\n",
       " 21698.135,\n",
       " 22309.621,\n",
       " 23510.72,\n",
       " 32955.812,\n",
       " 33418.043,\n",
       " 32403.225,\n",
       " 31723.912,\n",
       " 33061.555,\n",
       " 34963.23,\n",
       " 35640.953,\n",
       " 45913.375,\n",
       " 47429.984,\n",
       " 47008.72,\n",
       " 46685.715,\n",
       " 47719.113,\n",
       " 50032.902,\n",
       " 52088.4,\n",
       " 63039.918,\n",
       " 69206.34,\n",
       " 72204.266,\n",
       " 74647.85,\n",
       " 74314.055,\n",
       " 73114.19,\n",
       " 78494.31]"
      ]
     },
     "execution_count": 87,
     "metadata": {},
     "output_type": "execute_result"
    }
   ],
   "source": [
    "low"
   ]
  },
  {
   "cell_type": "code",
   "execution_count": 114,
   "metadata": {
    "scrolled": true
   },
   "outputs": [
    {
     "name": "stdout",
     "output_type": "stream",
     "text": [
      "[[59820.402]]\n",
      "[[59824.137]]\n",
      "[[61667.137]]\n",
      "[[63817.77]]\n",
      "[[64730.633]]\n",
      "[[64499.453]]\n",
      "[[63712.95]]\n",
      "[[63117.688]]\n",
      "[[63088.355]]\n",
      "[[63485.418]]\n",
      "[[63933.062]]\n",
      "[[64139.03]]\n",
      "[[64061.11]]\n",
      "[[63847.504]]\n",
      "[[63686.66]]\n",
      "[[63671.883]]\n",
      "[[63767.984]]\n",
      "[[63878.88]]\n",
      "[[63929.777]]\n",
      "[[63907.152]]\n",
      "[[63849.773]]\n",
      "[[63806.734]]\n",
      "[[63802.21]]\n",
      "[[63827.46]]\n",
      "[[63856.816]]\n",
      "[[63869.832]]\n",
      "[[63863.17]]\n",
      "[[63847.406]]\n",
      "[[63835.76]]\n",
      "[[63834.62]]\n",
      "[[63841.48]]\n",
      "[[63849.348]]\n",
      "[[63852.758]]\n",
      "[[63850.875]]\n",
      "[[63846.582]]\n",
      "[[63843.457]]\n",
      "[[63843.188]]\n",
      "[[63845.05]]\n",
      "[[63847.168]]\n",
      "[[63848.07]]\n",
      "[[63847.543]]\n",
      "[[63846.383]]\n",
      "[[63845.54]]\n",
      "[[63845.473]]\n",
      "[[63845.99]]\n",
      "[[63846.56]]\n",
      "[[63846.8]]\n",
      "[[63846.65]]\n",
      "[[63846.336]]\n",
      "[[63846.11]]\n",
      "[[63846.094]]\n",
      "[[63846.234]]\n",
      "[[63846.39]]\n",
      "[[63846.453]]\n",
      "[[63846.418]]\n",
      "[[63846.34]]\n",
      "[[63846.277]]\n",
      "[[63846.26]]\n",
      "[[63846.297]]\n",
      "[[63846.336]]\n",
      "[[63846.348]]\n",
      "[[63846.34]]\n",
      "[[63846.32]]\n",
      "[[63846.312]]\n",
      "[[63846.312]]\n",
      "[[63846.32]]\n",
      "[[63846.33]]\n",
      "[[63846.33]]\n",
      "[[63846.32]]\n",
      "[[63846.316]]\n",
      "[[63846.316]]\n",
      "[[63846.316]]\n",
      "[[63846.312]]\n",
      "[[63846.312]]\n",
      "[[63846.312]]\n",
      "[[63846.312]]\n",
      "[[63846.316]]\n",
      "[[63846.32]]\n",
      "[[63846.33]]\n",
      "[[63846.332]]\n",
      "[[63846.332]]\n",
      "[[63846.332]]\n",
      "[[63846.336]]\n",
      "[[63846.336]]\n",
      "[[63846.336]]\n",
      "[[63846.34]]\n",
      "[[63846.34]]\n",
      "[[63846.344]]\n",
      "[[63846.344]]\n",
      "[[63846.35]]\n",
      "[[63846.355]]\n",
      "[[63846.35]]\n",
      "[[63846.34]]\n",
      "[[63846.33]]\n",
      "[[63846.324]]\n",
      "[[63846.324]]\n",
      "[[63846.332]]\n",
      "[[63846.332]]\n",
      "[[63846.332]]\n",
      "[[63846.33]]\n"
     ]
    }
   ],
   "source": [
    "x_test = np.array(x_train[-1]).reshape((1,x_train.shape[1],1))\n",
    "for i in range(100):\n",
    "    y_pred = model.predict(x_test)\n",
    "    x_test = x_test.ravel()[1:]\n",
    "    x_test = np.append(x_test,y_pred.ravel())\n",
    "    x_test = x_test.reshape((1,x_train.shape[1],1))\n",
    "    print(scaler.inverse_transform(y_pred))"
   ]
  },
  {
   "cell_type": "code",
   "execution_count": 111,
   "metadata": {},
   "outputs": [
    {
     "data": {
      "text/plain": [
       "array([2.43350841, 2.34859026, 2.62642808, 2.82855719, 2.51310422,\n",
       "       1.        ])"
      ]
     },
     "execution_count": 111,
     "metadata": {},
     "output_type": "execute_result"
    }
   ],
   "source": [
    "x_test.ravel()+[1]\n",
    "np.append(x_test.ravel(),[1])"
   ]
  },
  {
   "cell_type": "code",
   "execution_count": 143,
   "metadata": {},
   "outputs": [
    {
     "data": {
      "text/html": [
       "<div>\n",
       "<style scoped>\n",
       "    .dataframe tbody tr th:only-of-type {\n",
       "        vertical-align: middle;\n",
       "    }\n",
       "\n",
       "    .dataframe tbody tr th {\n",
       "        vertical-align: top;\n",
       "    }\n",
       "\n",
       "    .dataframe thead th {\n",
       "        text-align: right;\n",
       "    }\n",
       "</style>\n",
       "<table border=\"1\" class=\"dataframe\">\n",
       "  <thead>\n",
       "    <tr style=\"text-align: right;\">\n",
       "      <th></th>\n",
       "      <th>Province/State</th>\n",
       "      <th>Country/Region</th>\n",
       "      <th>Lat</th>\n",
       "      <th>Long</th>\n",
       "      <th>1/22/20</th>\n",
       "      <th>1/23/20</th>\n",
       "      <th>1/24/20</th>\n",
       "      <th>1/25/20</th>\n",
       "      <th>1/26/20</th>\n",
       "      <th>1/27/20</th>\n",
       "      <th>...</th>\n",
       "      <th>7/4/20</th>\n",
       "      <th>7/5/20</th>\n",
       "      <th>7/6/20</th>\n",
       "      <th>7/7/20</th>\n",
       "      <th>7/8/20</th>\n",
       "      <th>7/9/20</th>\n",
       "      <th>7/10/20</th>\n",
       "      <th>7/11/20</th>\n",
       "      <th>7/12/20</th>\n",
       "      <th>7/13/20</th>\n",
       "    </tr>\n",
       "  </thead>\n",
       "  <tbody>\n",
       "    <tr>\n",
       "      <th>0</th>\n",
       "      <td>NaN</td>\n",
       "      <td>Afghanistan</td>\n",
       "      <td>33.93911</td>\n",
       "      <td>67.709953</td>\n",
       "      <td>0</td>\n",
       "      <td>0</td>\n",
       "      <td>0</td>\n",
       "      <td>0</td>\n",
       "      <td>0</td>\n",
       "      <td>0</td>\n",
       "      <td>...</td>\n",
       "      <td>32672</td>\n",
       "      <td>32951</td>\n",
       "      <td>33190</td>\n",
       "      <td>33384</td>\n",
       "      <td>33594</td>\n",
       "      <td>33908</td>\n",
       "      <td>34194</td>\n",
       "      <td>34366</td>\n",
       "      <td>34451</td>\n",
       "      <td>34455</td>\n",
       "    </tr>\n",
       "    <tr>\n",
       "      <th>1</th>\n",
       "      <td>NaN</td>\n",
       "      <td>Albania</td>\n",
       "      <td>41.15330</td>\n",
       "      <td>20.168300</td>\n",
       "      <td>0</td>\n",
       "      <td>0</td>\n",
       "      <td>0</td>\n",
       "      <td>0</td>\n",
       "      <td>0</td>\n",
       "      <td>0</td>\n",
       "      <td>...</td>\n",
       "      <td>2819</td>\n",
       "      <td>2893</td>\n",
       "      <td>2964</td>\n",
       "      <td>3038</td>\n",
       "      <td>3106</td>\n",
       "      <td>3188</td>\n",
       "      <td>3278</td>\n",
       "      <td>3371</td>\n",
       "      <td>3454</td>\n",
       "      <td>3571</td>\n",
       "    </tr>\n",
       "    <tr>\n",
       "      <th>2</th>\n",
       "      <td>NaN</td>\n",
       "      <td>Algeria</td>\n",
       "      <td>28.03390</td>\n",
       "      <td>1.659600</td>\n",
       "      <td>0</td>\n",
       "      <td>0</td>\n",
       "      <td>0</td>\n",
       "      <td>0</td>\n",
       "      <td>0</td>\n",
       "      <td>0</td>\n",
       "      <td>...</td>\n",
       "      <td>15500</td>\n",
       "      <td>15941</td>\n",
       "      <td>16404</td>\n",
       "      <td>16879</td>\n",
       "      <td>17348</td>\n",
       "      <td>17808</td>\n",
       "      <td>18242</td>\n",
       "      <td>18712</td>\n",
       "      <td>19195</td>\n",
       "      <td>19689</td>\n",
       "    </tr>\n",
       "    <tr>\n",
       "      <th>3</th>\n",
       "      <td>NaN</td>\n",
       "      <td>Andorra</td>\n",
       "      <td>42.50630</td>\n",
       "      <td>1.521800</td>\n",
       "      <td>0</td>\n",
       "      <td>0</td>\n",
       "      <td>0</td>\n",
       "      <td>0</td>\n",
       "      <td>0</td>\n",
       "      <td>0</td>\n",
       "      <td>...</td>\n",
       "      <td>855</td>\n",
       "      <td>855</td>\n",
       "      <td>855</td>\n",
       "      <td>855</td>\n",
       "      <td>855</td>\n",
       "      <td>855</td>\n",
       "      <td>855</td>\n",
       "      <td>855</td>\n",
       "      <td>855</td>\n",
       "      <td>858</td>\n",
       "    </tr>\n",
       "    <tr>\n",
       "      <th>4</th>\n",
       "      <td>NaN</td>\n",
       "      <td>Angola</td>\n",
       "      <td>-11.20270</td>\n",
       "      <td>17.873900</td>\n",
       "      <td>0</td>\n",
       "      <td>0</td>\n",
       "      <td>0</td>\n",
       "      <td>0</td>\n",
       "      <td>0</td>\n",
       "      <td>0</td>\n",
       "      <td>...</td>\n",
       "      <td>346</td>\n",
       "      <td>346</td>\n",
       "      <td>346</td>\n",
       "      <td>386</td>\n",
       "      <td>386</td>\n",
       "      <td>396</td>\n",
       "      <td>458</td>\n",
       "      <td>462</td>\n",
       "      <td>506</td>\n",
       "      <td>525</td>\n",
       "    </tr>\n",
       "  </tbody>\n",
       "</table>\n",
       "<p>5 rows × 178 columns</p>\n",
       "</div>"
      ],
      "text/plain": [
       "  Province/State Country/Region       Lat       Long  1/22/20  1/23/20  \\\n",
       "0            NaN    Afghanistan  33.93911  67.709953        0        0   \n",
       "1            NaN        Albania  41.15330  20.168300        0        0   \n",
       "2            NaN        Algeria  28.03390   1.659600        0        0   \n",
       "3            NaN        Andorra  42.50630   1.521800        0        0   \n",
       "4            NaN         Angola -11.20270  17.873900        0        0   \n",
       "\n",
       "   1/24/20  1/25/20  1/26/20  1/27/20  ...  7/4/20  7/5/20  7/6/20  7/7/20  \\\n",
       "0        0        0        0        0  ...   32672   32951   33190   33384   \n",
       "1        0        0        0        0  ...    2819    2893    2964    3038   \n",
       "2        0        0        0        0  ...   15500   15941   16404   16879   \n",
       "3        0        0        0        0  ...     855     855     855     855   \n",
       "4        0        0        0        0  ...     346     346     346     386   \n",
       "\n",
       "   7/8/20  7/9/20  7/10/20  7/11/20  7/12/20  7/13/20  \n",
       "0   33594   33908    34194    34366    34451    34455  \n",
       "1    3106    3188     3278     3371     3454     3571  \n",
       "2   17348   17808    18242    18712    19195    19689  \n",
       "3     855     855      855      855      855      858  \n",
       "4     386     396      458      462      506      525  \n",
       "\n",
       "[5 rows x 178 columns]"
      ]
     },
     "execution_count": 143,
     "metadata": {},
     "output_type": "execute_result"
    }
   ],
   "source": [
    "import pandas as pd\n",
    "df = pd.read_csv('https://raw.githubusercontent.com/CSSEGISandData/COVID-19/master/csse_covid_19_data/csse_covid_19_time_series/time_series_covid19_confirmed_global.csv')\n",
    "df.head()"
   ]
  },
  {
   "cell_type": "code",
   "execution_count": null,
   "metadata": {},
   "outputs": [],
   "source": []
  }
 ],
 "metadata": {
  "kernelspec": {
   "display_name": "Python 3",
   "language": "python",
   "name": "python3"
  },
  "language_info": {
   "codemirror_mode": {
    "name": "ipython",
    "version": 3
   },
   "file_extension": ".py",
   "mimetype": "text/x-python",
   "name": "python",
   "nbconvert_exporter": "python",
   "pygments_lexer": "ipython3",
   "version": "3.7.4"
  }
 },
 "nbformat": 4,
 "nbformat_minor": 4
}
