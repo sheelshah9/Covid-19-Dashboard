{
 "cells": [
  {
   "cell_type": "code",
   "execution_count": 11,
   "metadata": {},
   "outputs": [],
   "source": [
    "import sys\n",
    "sys.path.append('../')\n",
    "from helper import fetch_data, preprocess_data\n",
    "import numpy as np"
   ]
  },
  {
   "cell_type": "code",
   "execution_count": 6,
   "metadata": {},
   "outputs": [],
   "source": [
    "data = fetch_data()\n",
    "grouped_df, daily_df = preprocess_data(data)"
   ]
  },
  {
   "cell_type": "code",
   "execution_count": 131,
   "metadata": {
    "scrolled": true
   },
   "outputs": [],
   "source": [
    "from sklearn.preprocessing import StandardScaler, MinMaxScaler\n",
    "scaler = MinMaxScaler()\n",
    "train = daily_df.loc['Total'].tolist()\n",
    "train = np.array(train).reshape((-1,1))\n",
    "train = scaler.fit_transform(train)"
   ]
  },
  {
   "cell_type": "code",
   "execution_count": 132,
   "metadata": {},
   "outputs": [],
   "source": [
    "train = train.ravel()"
   ]
  },
  {
   "cell_type": "code",
   "execution_count": 133,
   "metadata": {},
   "outputs": [],
   "source": [
    "def modify_data(train,lookback=7):\n",
    "    X,Y = [], []\n",
    "    for i in range(len(train)-2*lookback-1):\n",
    "        x = train[i:i+lookback]\n",
    "        X.append(x)\n",
    "        Y.append(train[i+lookback:i+2*lookback])\n",
    "    return np.array(X), np.array(Y)"
   ]
  },
  {
   "cell_type": "code",
   "execution_count": 134,
   "metadata": {},
   "outputs": [],
   "source": [
    "x_train, y_train = modify_data(train)"
   ]
  },
  {
   "cell_type": "code",
   "execution_count": 135,
   "metadata": {},
   "outputs": [
    {
     "name": "stdout",
     "output_type": "stream",
     "text": [
      "(159, 7)\n",
      "(159, 7)\n"
     ]
    }
   ],
   "source": [
    "print(x_train.shape)\n",
    "print(y_train.shape)"
   ]
  },
  {
   "cell_type": "code",
   "execution_count": 136,
   "metadata": {},
   "outputs": [],
   "source": [
    "x_train = x_train.reshape((x_train.shape[0], x_train.shape[1], 1))"
   ]
  },
  {
   "cell_type": "code",
   "execution_count": 146,
   "metadata": {},
   "outputs": [],
   "source": [
    "from tensorflow.keras import Sequential\n",
    "from tensorflow.keras.layers import LSTM, Dropout, Dense\n",
    "\n",
    "model = Sequential()\n",
    "model.add(LSTM(50, input_shape=(7,1)))\n",
    "# model.add(LSTM(50, activation='relu'))\n",
    "# model.add(Dropout(0.2))\n",
    "model.add(Dense(7))\n",
    "\n",
    "model.compile(loss='mean_squared_error', optimizer='adam')\n",
    "y_hat = []\n",
    "for _ in range(20):\n",
    "    model.fit(x_train, y_train, epochs=100, verbose=0, shuffle=True)\n",
    "    x_test = np.array(y_train[-1]).reshape((1,x_train.shape[1],1))\n",
    "    y_hat.append(scaler.inverse_transform(model.predict(x_test)))"
   ]
  },
  {
   "cell_type": "code",
   "execution_count": 140,
   "metadata": {},
   "outputs": [
    {
     "data": {
      "text/plain": [
       "array([[65695.48 , 64244.9  , 68901.695, 70802.55 , 71321.46 , 77086.695,\n",
       "        75212.48 ]], dtype=float32)"
      ]
     },
     "execution_count": 140,
     "metadata": {},
     "output_type": "execute_result"
    }
   ],
   "source": [
    "x_test = np.array(y_train[-1]).reshape((1,x_train.shape[1],1))\n",
    "scaler.inverse_transform(model.predict(x_test))"
   ]
  },
  {
   "cell_type": "code",
   "execution_count": 152,
   "metadata": {},
   "outputs": [],
   "source": [
    "y_hat = np.array(y_hat).reshape((20,7))\n"
   ]
  },
  {
   "cell_type": "code",
   "execution_count": 155,
   "metadata": {},
   "outputs": [
    {
     "data": {
      "text/plain": [
       "66204.79"
      ]
     },
     "execution_count": 155,
     "metadata": {},
     "output_type": "execute_result"
    }
   ],
   "source": [
    "y_hat[:,0].mean()"
   ]
  },
  {
   "cell_type": "code",
   "execution_count": 114,
   "metadata": {
    "scrolled": true
   },
   "outputs": [
    {
     "name": "stdout",
     "output_type": "stream",
     "text": [
      "[[59820.402]]\n",
      "[[59824.137]]\n",
      "[[61667.137]]\n",
      "[[63817.77]]\n",
      "[[64730.633]]\n",
      "[[64499.453]]\n",
      "[[63712.95]]\n",
      "[[63117.688]]\n",
      "[[63088.355]]\n",
      "[[63485.418]]\n",
      "[[63933.062]]\n",
      "[[64139.03]]\n",
      "[[64061.11]]\n",
      "[[63847.504]]\n",
      "[[63686.66]]\n",
      "[[63671.883]]\n",
      "[[63767.984]]\n",
      "[[63878.88]]\n",
      "[[63929.777]]\n",
      "[[63907.152]]\n",
      "[[63849.773]]\n",
      "[[63806.734]]\n",
      "[[63802.21]]\n",
      "[[63827.46]]\n",
      "[[63856.816]]\n",
      "[[63869.832]]\n",
      "[[63863.17]]\n",
      "[[63847.406]]\n",
      "[[63835.76]]\n",
      "[[63834.62]]\n",
      "[[63841.48]]\n",
      "[[63849.348]]\n",
      "[[63852.758]]\n",
      "[[63850.875]]\n",
      "[[63846.582]]\n",
      "[[63843.457]]\n",
      "[[63843.188]]\n",
      "[[63845.05]]\n",
      "[[63847.168]]\n",
      "[[63848.07]]\n",
      "[[63847.543]]\n",
      "[[63846.383]]\n",
      "[[63845.54]]\n",
      "[[63845.473]]\n",
      "[[63845.99]]\n",
      "[[63846.56]]\n",
      "[[63846.8]]\n",
      "[[63846.65]]\n",
      "[[63846.336]]\n",
      "[[63846.11]]\n",
      "[[63846.094]]\n",
      "[[63846.234]]\n",
      "[[63846.39]]\n",
      "[[63846.453]]\n",
      "[[63846.418]]\n",
      "[[63846.34]]\n",
      "[[63846.277]]\n",
      "[[63846.26]]\n",
      "[[63846.297]]\n",
      "[[63846.336]]\n",
      "[[63846.348]]\n",
      "[[63846.34]]\n",
      "[[63846.32]]\n",
      "[[63846.312]]\n",
      "[[63846.312]]\n",
      "[[63846.32]]\n",
      "[[63846.33]]\n",
      "[[63846.33]]\n",
      "[[63846.32]]\n",
      "[[63846.316]]\n",
      "[[63846.316]]\n",
      "[[63846.316]]\n",
      "[[63846.312]]\n",
      "[[63846.312]]\n",
      "[[63846.312]]\n",
      "[[63846.312]]\n",
      "[[63846.316]]\n",
      "[[63846.32]]\n",
      "[[63846.33]]\n",
      "[[63846.332]]\n",
      "[[63846.332]]\n",
      "[[63846.332]]\n",
      "[[63846.336]]\n",
      "[[63846.336]]\n",
      "[[63846.336]]\n",
      "[[63846.34]]\n",
      "[[63846.34]]\n",
      "[[63846.344]]\n",
      "[[63846.344]]\n",
      "[[63846.35]]\n",
      "[[63846.355]]\n",
      "[[63846.35]]\n",
      "[[63846.34]]\n",
      "[[63846.33]]\n",
      "[[63846.324]]\n",
      "[[63846.324]]\n",
      "[[63846.332]]\n",
      "[[63846.332]]\n",
      "[[63846.332]]\n",
      "[[63846.33]]\n"
     ]
    }
   ],
   "source": [
    "x_test = np.array(x_train[-1]).reshape((1,x_train.shape[1],1))\n",
    "for i in range(100):\n",
    "    y_pred = model.predict(x_test)\n",
    "    x_test = x_test.ravel()[1:]\n",
    "    x_test = np.append(x_test,y_pred.ravel())\n",
    "    x_test = x_test.reshape((1,x_train.shape[1],1))\n",
    "    print(scaler.inverse_transform(y_pred))"
   ]
  },
  {
   "cell_type": "code",
   "execution_count": 111,
   "metadata": {},
   "outputs": [
    {
     "data": {
      "text/plain": [
       "array([2.43350841, 2.34859026, 2.62642808, 2.82855719, 2.51310422,\n",
       "       1.        ])"
      ]
     },
     "execution_count": 111,
     "metadata": {},
     "output_type": "execute_result"
    }
   ],
   "source": [
    "x_test.ravel()+[1]\n",
    "np.append(x_test.ravel(),[1])"
   ]
  },
  {
   "cell_type": "code",
   "execution_count": 143,
   "metadata": {},
   "outputs": [
    {
     "data": {
      "text/html": [
       "<div>\n",
       "<style scoped>\n",
       "    .dataframe tbody tr th:only-of-type {\n",
       "        vertical-align: middle;\n",
       "    }\n",
       "\n",
       "    .dataframe tbody tr th {\n",
       "        vertical-align: top;\n",
       "    }\n",
       "\n",
       "    .dataframe thead th {\n",
       "        text-align: right;\n",
       "    }\n",
       "</style>\n",
       "<table border=\"1\" class=\"dataframe\">\n",
       "  <thead>\n",
       "    <tr style=\"text-align: right;\">\n",
       "      <th></th>\n",
       "      <th>Province/State</th>\n",
       "      <th>Country/Region</th>\n",
       "      <th>Lat</th>\n",
       "      <th>Long</th>\n",
       "      <th>1/22/20</th>\n",
       "      <th>1/23/20</th>\n",
       "      <th>1/24/20</th>\n",
       "      <th>1/25/20</th>\n",
       "      <th>1/26/20</th>\n",
       "      <th>1/27/20</th>\n",
       "      <th>...</th>\n",
       "      <th>7/4/20</th>\n",
       "      <th>7/5/20</th>\n",
       "      <th>7/6/20</th>\n",
       "      <th>7/7/20</th>\n",
       "      <th>7/8/20</th>\n",
       "      <th>7/9/20</th>\n",
       "      <th>7/10/20</th>\n",
       "      <th>7/11/20</th>\n",
       "      <th>7/12/20</th>\n",
       "      <th>7/13/20</th>\n",
       "    </tr>\n",
       "  </thead>\n",
       "  <tbody>\n",
       "    <tr>\n",
       "      <th>0</th>\n",
       "      <td>NaN</td>\n",
       "      <td>Afghanistan</td>\n",
       "      <td>33.93911</td>\n",
       "      <td>67.709953</td>\n",
       "      <td>0</td>\n",
       "      <td>0</td>\n",
       "      <td>0</td>\n",
       "      <td>0</td>\n",
       "      <td>0</td>\n",
       "      <td>0</td>\n",
       "      <td>...</td>\n",
       "      <td>32672</td>\n",
       "      <td>32951</td>\n",
       "      <td>33190</td>\n",
       "      <td>33384</td>\n",
       "      <td>33594</td>\n",
       "      <td>33908</td>\n",
       "      <td>34194</td>\n",
       "      <td>34366</td>\n",
       "      <td>34451</td>\n",
       "      <td>34455</td>\n",
       "    </tr>\n",
       "    <tr>\n",
       "      <th>1</th>\n",
       "      <td>NaN</td>\n",
       "      <td>Albania</td>\n",
       "      <td>41.15330</td>\n",
       "      <td>20.168300</td>\n",
       "      <td>0</td>\n",
       "      <td>0</td>\n",
       "      <td>0</td>\n",
       "      <td>0</td>\n",
       "      <td>0</td>\n",
       "      <td>0</td>\n",
       "      <td>...</td>\n",
       "      <td>2819</td>\n",
       "      <td>2893</td>\n",
       "      <td>2964</td>\n",
       "      <td>3038</td>\n",
       "      <td>3106</td>\n",
       "      <td>3188</td>\n",
       "      <td>3278</td>\n",
       "      <td>3371</td>\n",
       "      <td>3454</td>\n",
       "      <td>3571</td>\n",
       "    </tr>\n",
       "    <tr>\n",
       "      <th>2</th>\n",
       "      <td>NaN</td>\n",
       "      <td>Algeria</td>\n",
       "      <td>28.03390</td>\n",
       "      <td>1.659600</td>\n",
       "      <td>0</td>\n",
       "      <td>0</td>\n",
       "      <td>0</td>\n",
       "      <td>0</td>\n",
       "      <td>0</td>\n",
       "      <td>0</td>\n",
       "      <td>...</td>\n",
       "      <td>15500</td>\n",
       "      <td>15941</td>\n",
       "      <td>16404</td>\n",
       "      <td>16879</td>\n",
       "      <td>17348</td>\n",
       "      <td>17808</td>\n",
       "      <td>18242</td>\n",
       "      <td>18712</td>\n",
       "      <td>19195</td>\n",
       "      <td>19689</td>\n",
       "    </tr>\n",
       "    <tr>\n",
       "      <th>3</th>\n",
       "      <td>NaN</td>\n",
       "      <td>Andorra</td>\n",
       "      <td>42.50630</td>\n",
       "      <td>1.521800</td>\n",
       "      <td>0</td>\n",
       "      <td>0</td>\n",
       "      <td>0</td>\n",
       "      <td>0</td>\n",
       "      <td>0</td>\n",
       "      <td>0</td>\n",
       "      <td>...</td>\n",
       "      <td>855</td>\n",
       "      <td>855</td>\n",
       "      <td>855</td>\n",
       "      <td>855</td>\n",
       "      <td>855</td>\n",
       "      <td>855</td>\n",
       "      <td>855</td>\n",
       "      <td>855</td>\n",
       "      <td>855</td>\n",
       "      <td>858</td>\n",
       "    </tr>\n",
       "    <tr>\n",
       "      <th>4</th>\n",
       "      <td>NaN</td>\n",
       "      <td>Angola</td>\n",
       "      <td>-11.20270</td>\n",
       "      <td>17.873900</td>\n",
       "      <td>0</td>\n",
       "      <td>0</td>\n",
       "      <td>0</td>\n",
       "      <td>0</td>\n",
       "      <td>0</td>\n",
       "      <td>0</td>\n",
       "      <td>...</td>\n",
       "      <td>346</td>\n",
       "      <td>346</td>\n",
       "      <td>346</td>\n",
       "      <td>386</td>\n",
       "      <td>386</td>\n",
       "      <td>396</td>\n",
       "      <td>458</td>\n",
       "      <td>462</td>\n",
       "      <td>506</td>\n",
       "      <td>525</td>\n",
       "    </tr>\n",
       "  </tbody>\n",
       "</table>\n",
       "<p>5 rows × 178 columns</p>\n",
       "</div>"
      ],
      "text/plain": [
       "  Province/State Country/Region       Lat       Long  1/22/20  1/23/20  \\\n",
       "0            NaN    Afghanistan  33.93911  67.709953        0        0   \n",
       "1            NaN        Albania  41.15330  20.168300        0        0   \n",
       "2            NaN        Algeria  28.03390   1.659600        0        0   \n",
       "3            NaN        Andorra  42.50630   1.521800        0        0   \n",
       "4            NaN         Angola -11.20270  17.873900        0        0   \n",
       "\n",
       "   1/24/20  1/25/20  1/26/20  1/27/20  ...  7/4/20  7/5/20  7/6/20  7/7/20  \\\n",
       "0        0        0        0        0  ...   32672   32951   33190   33384   \n",
       "1        0        0        0        0  ...    2819    2893    2964    3038   \n",
       "2        0        0        0        0  ...   15500   15941   16404   16879   \n",
       "3        0        0        0        0  ...     855     855     855     855   \n",
       "4        0        0        0        0  ...     346     346     346     386   \n",
       "\n",
       "   7/8/20  7/9/20  7/10/20  7/11/20  7/12/20  7/13/20  \n",
       "0   33594   33908    34194    34366    34451    34455  \n",
       "1    3106    3188     3278     3371     3454     3571  \n",
       "2   17348   17808    18242    18712    19195    19689  \n",
       "3     855     855      855      855      855      858  \n",
       "4     386     396      458      462      506      525  \n",
       "\n",
       "[5 rows x 178 columns]"
      ]
     },
     "execution_count": 143,
     "metadata": {},
     "output_type": "execute_result"
    }
   ],
   "source": [
    "import pandas as pd\n",
    "df = pd.read_csv('https://raw.githubusercontent.com/CSSEGISandData/COVID-19/master/csse_covid_19_data/csse_covid_19_time_series/time_series_covid19_confirmed_global.csv')\n",
    "df.head()"
   ]
  },
  {
   "cell_type": "code",
   "execution_count": null,
   "metadata": {},
   "outputs": [],
   "source": []
  }
 ],
 "metadata": {
  "kernelspec": {
   "display_name": "Python 3",
   "language": "python",
   "name": "python3"
  },
  "language_info": {
   "codemirror_mode": {
    "name": "ipython",
    "version": 3
   },
   "file_extension": ".py",
   "mimetype": "text/x-python",
   "name": "python",
   "nbconvert_exporter": "python",
   "pygments_lexer": "ipython3",
   "version": "3.7.4"
  }
 },
 "nbformat": 4,
 "nbformat_minor": 4
}
