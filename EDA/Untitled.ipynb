{
 "cells": [
  {
   "cell_type": "code",
   "execution_count": 4,
   "metadata": {},
   "outputs": [
    {
     "name": "stderr",
     "output_type": "stream",
     "text": [
      "c:\\users\\sheel\\pycharmprojects\\adbi\\lib\\site-packages\\tensorflow\\python\\framework\\dtypes.py:516: FutureWarning: Passing (type, 1) or '1type' as a synonym of type is deprecated; in a future version of numpy, it will be understood as (type, (1,)) / '(1,)type'.\n",
      "  _np_qint8 = np.dtype([(\"qint8\", np.int8, 1)])\n",
      "c:\\users\\sheel\\pycharmprojects\\adbi\\lib\\site-packages\\tensorflow\\python\\framework\\dtypes.py:517: FutureWarning: Passing (type, 1) or '1type' as a synonym of type is deprecated; in a future version of numpy, it will be understood as (type, (1,)) / '(1,)type'.\n",
      "  _np_quint8 = np.dtype([(\"quint8\", np.uint8, 1)])\n",
      "c:\\users\\sheel\\pycharmprojects\\adbi\\lib\\site-packages\\tensorflow\\python\\framework\\dtypes.py:518: FutureWarning: Passing (type, 1) or '1type' as a synonym of type is deprecated; in a future version of numpy, it will be understood as (type, (1,)) / '(1,)type'.\n",
      "  _np_qint16 = np.dtype([(\"qint16\", np.int16, 1)])\n",
      "c:\\users\\sheel\\pycharmprojects\\adbi\\lib\\site-packages\\tensorflow\\python\\framework\\dtypes.py:519: FutureWarning: Passing (type, 1) or '1type' as a synonym of type is deprecated; in a future version of numpy, it will be understood as (type, (1,)) / '(1,)type'.\n",
      "  _np_quint16 = np.dtype([(\"quint16\", np.uint16, 1)])\n",
      "c:\\users\\sheel\\pycharmprojects\\adbi\\lib\\site-packages\\tensorflow\\python\\framework\\dtypes.py:520: FutureWarning: Passing (type, 1) or '1type' as a synonym of type is deprecated; in a future version of numpy, it will be understood as (type, (1,)) / '(1,)type'.\n",
      "  _np_qint32 = np.dtype([(\"qint32\", np.int32, 1)])\n",
      "c:\\users\\sheel\\pycharmprojects\\adbi\\lib\\site-packages\\tensorflow\\python\\framework\\dtypes.py:525: FutureWarning: Passing (type, 1) or '1type' as a synonym of type is deprecated; in a future version of numpy, it will be understood as (type, (1,)) / '(1,)type'.\n",
      "  np_resource = np.dtype([(\"resource\", np.ubyte, 1)])\n",
      "c:\\users\\sheel\\pycharmprojects\\adbi\\lib\\site-packages\\tensorboard\\compat\\tensorflow_stub\\dtypes.py:541: FutureWarning: Passing (type, 1) or '1type' as a synonym of type is deprecated; in a future version of numpy, it will be understood as (type, (1,)) / '(1,)type'.\n",
      "  _np_qint8 = np.dtype([(\"qint8\", np.int8, 1)])\n",
      "c:\\users\\sheel\\pycharmprojects\\adbi\\lib\\site-packages\\tensorboard\\compat\\tensorflow_stub\\dtypes.py:542: FutureWarning: Passing (type, 1) or '1type' as a synonym of type is deprecated; in a future version of numpy, it will be understood as (type, (1,)) / '(1,)type'.\n",
      "  _np_quint8 = np.dtype([(\"quint8\", np.uint8, 1)])\n",
      "c:\\users\\sheel\\pycharmprojects\\adbi\\lib\\site-packages\\tensorboard\\compat\\tensorflow_stub\\dtypes.py:543: FutureWarning: Passing (type, 1) or '1type' as a synonym of type is deprecated; in a future version of numpy, it will be understood as (type, (1,)) / '(1,)type'.\n",
      "  _np_qint16 = np.dtype([(\"qint16\", np.int16, 1)])\n",
      "c:\\users\\sheel\\pycharmprojects\\adbi\\lib\\site-packages\\tensorboard\\compat\\tensorflow_stub\\dtypes.py:544: FutureWarning: Passing (type, 1) or '1type' as a synonym of type is deprecated; in a future version of numpy, it will be understood as (type, (1,)) / '(1,)type'.\n",
      "  _np_quint16 = np.dtype([(\"quint16\", np.uint16, 1)])\n",
      "c:\\users\\sheel\\pycharmprojects\\adbi\\lib\\site-packages\\tensorboard\\compat\\tensorflow_stub\\dtypes.py:545: FutureWarning: Passing (type, 1) or '1type' as a synonym of type is deprecated; in a future version of numpy, it will be understood as (type, (1,)) / '(1,)type'.\n",
      "  _np_qint32 = np.dtype([(\"qint32\", np.int32, 1)])\n",
      "c:\\users\\sheel\\pycharmprojects\\adbi\\lib\\site-packages\\tensorboard\\compat\\tensorflow_stub\\dtypes.py:550: FutureWarning: Passing (type, 1) or '1type' as a synonym of type is deprecated; in a future version of numpy, it will be understood as (type, (1,)) / '(1,)type'.\n",
      "  np_resource = np.dtype([(\"resource\", np.ubyte, 1)])\n"
     ]
    }
   ],
   "source": [
    "import sys\n",
    "sys.path.append(\"../\")\n",
    "from helper import Data\n",
    "from regressors import Regressor"
   ]
  },
  {
   "cell_type": "code",
   "execution_count": 50,
   "metadata": {},
   "outputs": [],
   "source": [
    "d = Data()\n",
    "\n",
    "d.fetch_data()\n",
    "pre_df = d.preprocess_data(d.df_us_cases)\n",
    "df = d.daily_data(pre_df)\n",
    "daily_reg = Regressor(pre_df, 7)"
   ]
  },
  {
   "cell_type": "code",
   "execution_count": 51,
   "metadata": {},
   "outputs": [],
   "source": [
    "from statsmodels.tsa.arima_model import ARIMA\n",
    "import xgboost as xgb\n",
    "from sklearn.model_selection import train_test_split\n",
    "from sklearn.multioutput import MultiOutputRegressor\n",
    "import numpy as np\n",
    "import datetime\n",
    "import pandas as pd\n",
    "from sklearn.preprocessing import MinMaxScaler\n",
    "from tensorflow.keras import Sequential\n",
    "from tensorflow.keras.layers import LSTM, Dropout, Dense\n",
    "\n",
    "def LSTM_mod(self, lookback=7, row='Total', num_estimators=10):\n",
    "    daily_df = self.daily_df.copy()\n",
    "    scaler = MinMaxScaler()\n",
    "    train = daily_df[row].tolist()\n",
    "    train = np.array(train).reshape((-1, 1))\n",
    "    train = scaler.fit_transform(train)\n",
    "    train = train.ravel()\n",
    "\n",
    "    x_train, y_train = [], []\n",
    "    for i in range(len(train) - lookback - self.forecast_interval + 1):\n",
    "        x = train[i:i + lookback]\n",
    "        x_train.append(x)\n",
    "        y_train.append(train[i + lookback:i + lookback + self.forecast_interval])\n",
    "\n",
    "    train_pred = []\n",
    "    for i in range(len(train)-lookback+1):\n",
    "        train_pred.append(train[i:i+lookback])\n",
    "\n",
    "    train_pred = np.array(train_pred)\n",
    "    train_pred = train_pred.reshape((train_pred.shape[0], train_pred.shape[1], 1))\n",
    "\n",
    "    x_train, y_train = np.array(x_train), np.array(y_train)\n",
    "    x_train = x_train.reshape((x_train.shape[0], x_train.shape[1], 1))\n",
    "    print(x_train.shape)\n",
    "    model = Sequential()\n",
    "    model.add(LSTM(50, input_shape=(lookback, 1)))\n",
    "    # model.add(LSTM(50, activation='relu'))\n",
    "    # model.add(Dropout(0.2))\n",
    "    model.add(Dense(self.forecast_interval))\n",
    "\n",
    "    model.compile(loss='mean_squared_error', optimizer='adam')\n",
    "    y_hat = []\n",
    "    for _ in range(num_estimators):\n",
    "        model.fit(x_train, y_train, epochs=100, verbose=0, shuffle=True)\n",
    "        x_test = np.array(y_train[-1]).reshape((1, x_train.shape[1], 1))\n",
    "        x_test = np.concatenate([train_pred, x_test])\n",
    "        y_hat.append(scaler.inverse_transform(model.predict(x_test)))\n",
    "\n",
    "    y_hat = np.array(y_hat)\n",
    "    ans = []\n",
    "    for i in range(num_estimators):\n",
    "        ans.append(y_hat[i, 0:y_hat.shape[1]:lookback].ravel())\n",
    "    ans = np.array(ans)\n",
    "    print(ans.shape)\n",
    "    low, high = [], []\n",
    "    pred = []\n",
    "    for i in range(ans.shape[1]):\n",
    "        low.append(max(ans[:, i].min(), 0))\n",
    "        high.append(ans[:, i].max())\n",
    "        pred.append(max(ans[:, i].mean(), 0))\n",
    "\n",
    "\n",
    "    forecasted_days = self.generate_dates(daily_df.index[-1], self.forecast_interval)\n",
    "    preds = pd.DataFrame(data=pred, columns=[\"forecast\"],\n",
    "                         index=daily_df.index[lookback+(train_pred.shape[0])%lookback-1:].union(forecasted_days))\n",
    "    interval_low = pd.DataFrame(data=low, columns=[\"interval_low\"], index=daily_df.index[lookback+(train_pred.shape[0])%lookback-1:].union(forecasted_days))\n",
    "    interval_high = pd.DataFrame(data=high, columns=[\"interval_high\"], index=daily_df.index[lookback+(train_pred.shape[0])%lookback-1:].union(forecasted_days))\n",
    "\n",
    "    daily_df = pd.concat([daily_df, preds, interval_low, interval_high], axis=1)\n",
    "    return daily_df, model"
   ]
  },
  {
   "cell_type": "code",
   "execution_count": 52,
   "metadata": {},
   "outputs": [
    {
     "name": "stdout",
     "output_type": "stream",
     "text": [
      "(166, 7, 1)\n",
      "(10, 175)\n"
     ]
    }
   ],
   "source": [
    "xg_daily_data, lstm = LSTM_mod(daily_reg)"
   ]
  },
  {
   "cell_type": "code",
   "execution_count": 53,
   "metadata": {},
   "outputs": [
    {
     "data": {
      "text/plain": [
       "<tensorflow.python.keras.engine.sequential.Sequential at 0x28e706dd288>"
      ]
     },
     "execution_count": 53,
     "metadata": {},
     "output_type": "execute_result"
    }
   ],
   "source": [
    "lstm"
   ]
  },
  {
   "cell_type": "code",
   "execution_count": 65,
   "metadata": {},
   "outputs": [],
   "source": [
    "import matplotlib.pyplot as plt\n",
    "%matplotlib inline\n",
    "def LSTM_rep(self, model, lookback=7, row='Total', num_estimators=10):\n",
    "    daily_df = self.daily_df.copy()\n",
    "    scaler = MinMaxScaler()\n",
    "    train = daily_df[row].tolist()\n",
    "    train = np.array(train).reshape((-1, 1))\n",
    "    train = scaler.fit_transform(train)\n",
    "    train = train.ravel()\n",
    "\n",
    "    x_train, y_train = [], []\n",
    "    for i in range(len(train) - lookback - 7 + 1):\n",
    "        x = train[i:i + lookback]\n",
    "        x_train.append(x)\n",
    "        y_train.append(train[i + lookback:i + lookback + 7])\n",
    "\n",
    "    train_pred = []\n",
    "    for i in range(len(train)-lookback+1):\n",
    "        train_pred.append(train[i:i+lookback])\n",
    "\n",
    "    train_pred = np.array(train_pred)\n",
    "    train_pred = train_pred.reshape((train_pred.shape[0], train_pred.shape[1], 1))\n",
    "\n",
    "    x_train, y_train = np.array(x_train), np.array(y_train)\n",
    "    x_train = x_train.reshape((x_train.shape[0], x_train.shape[1], 1))\n",
    "\n",
    "    arr = scaler.inverse_transform(model.predict(x_train))\n",
    "#     arr = arr.ravel()\n",
    "#     print(arr)\n",
    "    print(np.diff(arr))\n",
    "    plt.plot(np.diff(arr))"
   ]
  },
  {
   "cell_type": "code",
   "execution_count": 66,
   "metadata": {},
   "outputs": [
    {
     "name": "stdout",
     "output_type": "stream",
     "text": [
      "[[  30.853241   51.519638   47.01088    73.08882    85.05304    88.98938 ]\n",
      " [  30.853241   51.519638   47.01088    73.08882    85.05304    88.98938 ]\n",
      " [  30.853241   51.519638   47.01088    73.08882    85.05304    88.98938 ]\n",
      " [  30.853241   51.519638   47.01088    73.08882    85.05304    88.98938 ]\n",
      " [  30.853241   51.519638   47.01088    73.08882    85.05304    88.98938 ]\n",
      " [  30.853241   51.519638   47.01088    73.08882    85.05304    88.98938 ]\n",
      " [  30.853241   51.519638   47.01088    73.08882    85.05304    88.98938 ]\n",
      " [  30.853241   51.519638   47.01088    73.08882    85.05304    88.98938 ]\n",
      " [  30.853241   51.519638   47.01088    73.08882    85.05304    88.98938 ]\n",
      " [  30.853241   51.519638   47.01088    73.08882    85.05304    88.98938 ]\n",
      " [  30.853241   51.519638   47.01088    73.08882    85.05304    88.98938 ]\n",
      " [  30.853241   51.519638   47.01088    73.08882    85.05304    88.98938 ]\n",
      " [  30.853241   51.519638   47.01088    73.08882    85.05304    88.98938 ]\n",
      " [  30.853241   51.519638   47.01088    73.08882    85.05304    88.98938 ]\n",
      " [  30.853241   51.519638   47.01088    73.08882    85.05304    88.98938 ]\n",
      " [  30.853241   51.519638   47.01088    73.08882    85.05304    88.98938 ]\n",
      " [  30.853241   51.519638   47.01088    73.08882    85.05304    88.98938 ]\n",
      " [  30.853241   51.519638   47.01088    73.08882    85.05304    88.98938 ]\n",
      " [  30.853241   51.519638   47.01088    73.08882    85.05304    88.98938 ]\n",
      " [  30.853241   51.519638   47.01088    73.08882    85.05304    88.98938 ]\n",
      " [  30.853241   51.519638   47.01088    73.08882    85.05304    88.98938 ]\n",
      " [  30.853241   51.519638   47.01088    73.08882    85.05304    88.98938 ]\n",
      " [  30.853241   51.519638   47.01088    73.08882    85.05304    88.98938 ]\n",
      " [  30.853241   51.519638   47.01088    73.08882    85.05304    88.98938 ]\n",
      " [  30.853241   51.519638   47.01088    73.08882    85.05304    88.98938 ]\n",
      " [  30.853241   51.519638   47.01088    73.08882    85.05304    88.98938 ]\n",
      " [  30.853241   51.519638   47.01088    73.08882    85.05304    88.98938 ]\n",
      " [  30.853241   51.519638   47.01088    73.08882    85.05304    88.98938 ]\n",
      " [  30.853241   51.519638   47.01088    73.08882    85.05304    88.98938 ]\n",
      " [  30.853241   51.519638   47.01088    73.08882    85.05304    88.98938 ]\n",
      " [  30.853516   51.51927    47.011154   73.08882    85.05304    88.9892  ]\n",
      " [  30.853516   51.51927    47.011154   73.08882    85.05304    88.9892  ]\n",
      " [  30.853241   51.519638   47.01088    73.08882    85.05304    88.98938 ]\n",
      " [  30.853241   51.519638   47.01088    73.08882    85.05304    88.98938 ]\n",
      " [  30.853241   51.519638   47.01088    73.08882    85.05304    88.98938 ]\n",
      " [  30.840096   51.50583    47.02925    73.15823    85.12924    88.936584]\n",
      " [  30.866035   51.503006   47.06314    73.212494   85.20105    88.93109 ]\n",
      " [  30.914444   51.51645    47.117676   73.25871    85.26593    88.96469 ]\n",
      " [  30.963959   51.53772    47.209503   73.375824   85.39145    88.98407 ]\n",
      " [  31.057884   51.59738    47.3351     73.48018    85.505066   89.07123 ]\n",
      " [  31.180382   51.702255   47.491608   73.58632    85.59424    89.22162 ]\n",
      " [  31.316223   51.860123   47.67787    73.69522    85.666046   89.413086]\n",
      " [  31.318787   51.850067   47.862778   74.0968     86.078064   89.24921 ]\n",
      " [  31.518585   51.92726    48.13849    74.42149    86.47107    89.331055]\n",
      " [  31.729431   52.004456   48.669342   75.27696    87.41       89.211   ]\n",
      " [  32.21717    52.134277   49.347397   76.07704    88.4014     89.400665]\n",
      " [  32.899597   52.437393   50.44493    77.374084   89.84921    89.72424 ]\n",
      " [  33.967545   53.085922   52.059647   79.042786   91.631195   90.497986]\n",
      " [  35.489243   54.249435   54.285324   81.09207    93.67554    91.88406 ]\n",
      " [  36.885986   55.109985   56.951904   84.46161    97.20221    92.4256  ]\n",
      " [  39.197266   56.63269    61.020874   89.400085  102.42154    93.497925]\n",
      " [  42.160645   57.934875   66.28238    96.33911   110.19876    94.16504 ]\n",
      " [  47.015472   60.37671    74.231476  105.98547   120.95471    96.19684 ]\n",
      " [  53.99115    63.910156   85.194855  118.690796  135.1499     99.721985]\n",
      " [  64.38107    70.14688    99.80676   132.9726    150.78992   107.697815]\n",
      " [  77.97882    80.298035  118.47485   148.9654    167.02863   120.78528 ]\n",
      " [  91.9433     91.614075  141.0567    172.15643   190.1106    131.98499 ]\n",
      " [ 110.00122   106.115845  167.53046   197.39441   215.7832    147.50745 ]\n",
      " [ 130.42914   122.27429   197.75769   227.21875   246.68372   163.96289 ]\n",
      " [ 154.4237    140.62915   231.85791   260.06445   281.52222   183.43701 ]\n",
      " [ 182.19153   161.38074   269.04736   293.46216   317.51562   207.67041 ]\n",
      " [ 213.73572   188.0885    311.6792    330.323     355.5254    237.5022  ]\n",
      " [ 250.20422   223.8169    358.74      365.96143   389.69458   277.2605  ]\n",
      " [ 283.67407   256.68237   403.8584    403.8933    427.46582   310.6482  ]\n",
      " [ 320.18335   294.6836    449.67236   438.19873   460.86035   350.2622  ]\n",
      " [ 353.39575   330.24072   494.5896    478.073     501.74658   381.00146 ]\n",
      " [ 388.22314   365.46802   539.08813   518.1675    546.2334    410.42285 ]\n",
      " [ 426.86426   404.37695   583.99854   554.46875   588.0171    445.58496 ]\n",
      " [ 467.73633   445.12158   626.81445   582.35547   620.75977   488.2036  ]\n",
      " [ 506.12207   491.687     670.18896   612.14014   651.63965   530.0713  ]\n",
      " [ 541.5205    535.86914   710.103     642.04785   684.81104   565.312   ]\n",
      " [ 579.5498    588.1382    747.55664   661.84766   703.9995    610.9629  ]\n",
      " [ 613.54785   633.4331    778.9917    677.26904   720.2544    651.2373  ]\n",
      " [ 644.2554    674.0713    806.1201    689.06885   732.84766   688.51855 ]\n",
      " [ 669.3179    711.8491    830.8574    705.64355   751.3838    714.5596  ]\n",
      " [ 695.9282    755.31006   852.72217   713.48047   756.7666    749.1172  ]\n",
      " [ 718.87354   792.38965   870.8906    721.9678    765.5381    775.3008  ]\n",
      " [ 741.74854   822.4429    885.98145   726.5       773.2344    800.7178  ]\n",
      " [ 762.98486   854.0537    899.4824    727.1836    771.8838    830.0039  ]\n",
      " [ 779.94434   884.8408    911.06445   729.00684   769.27637   854.6582  ]\n",
      " [ 792.1763    915.1387    920.4092    735.        771.4746    869.1758  ]\n",
      " [ 806.8047    937.71094   927.31836   738.55176   778.61426   881.2207  ]\n",
      " [ 821.8037    960.85645   933.01465   738.1328    778.26953   898.0488  ]\n",
      " [ 835.91895   979.9258    937.8623    737.2803    778.3125    913.57324 ]\n",
      " [ 848.9795    999.7793    941.8877    732.99316   768.9199    934.4551  ]\n",
      " [ 856.8467   1020.13184   944.5947    731.73535   759.1699    949.24414 ]\n",
      " [ 863.2168   1039.0127    945.5459    730.70215   749.97754   960.66797 ]\n",
      " [ 867.94434  1051.3008    945.05664   735.667     757.99805   957.0703  ]\n",
      " [ 873.3594   1061.457     943.04785   741.1572    771.26953   949.06934 ]\n",
      " [ 884.792    1071.1992    940.70605   736.44824   768.00977   958.9863  ]\n",
      " [ 894.3926   1079.373     938.81055   730.81445   758.2041    972.5664  ]\n",
      " [ 897.7373   1088.4658    936.2324    728.3711    745.5137    981.4746  ]\n",
      " [ 898.93555  1096.1396    932.38086   727.54297   735.2344    985.5625  ]\n",
      " [ 895.9365   1102.7256    926.16895   731.48535   733.50977   976.8887  ]\n",
      " [ 899.83984  1105.5723    919.5127    728.91895   727.1719    978.21094 ]\n",
      " [ 903.3867   1102.9961    912.7988    729.5996    732.84766   970.9863  ]\n",
      " [ 909.83594  1101.9717    907.7168    720.666     709.084     989.68164 ]\n",
      " [ 912.7285   1101.6533    904.4531    710.584     669.8867   1017.8789  ]\n",
      " [ 905.13574  1100.7178    899.8613    711.85156   649.6406   1021.0039  ]\n",
      " [ 894.751    1099.3242    892.4219    717.78125   643.3789   1008.4121  ]\n",
      " [ 890.55273  1093.5781    883.0879    722.80273   652.1992    989.2832  ]\n",
      " [ 888.7578   1085.7832    873.13086   725.2871    657.1758    974.5488  ]\n",
      " [ 891.64844  1073.2188    863.8086    725.89453   668.0449    961.44727 ]\n",
      " [ 891.4531   1060.7402    855.5664    725.11914   663.3711    958.03125 ]\n",
      " [ 887.80273  1050.1602    848.95703   721.9531    635.041     969.82227 ]\n",
      " [ 883.2461   1039.1816    843.3281    719.5469    606.5879    981.8926  ]\n",
      " [ 870.70703  1027.7695    834.33984   726.8262    606.8926    962.5879  ]\n",
      " [ 860.2617   1014.9707    822.93945   734.1758    615.55664   936.834   ]\n",
      " [ 854.99023   999.49805   810.9492    738.0547    621.9258    917.05664 ]\n",
      " [ 850.55664   981.21875   798.3926    741.81836   632.6406    894.75    ]\n",
      " [ 848.60547   960.4961    787.23047   742.92773   636.3008    881.8262  ]\n",
      " [ 843.83984   939.44727   777.8867    743.44727   626.4492    878.28516 ]\n",
      " [ 842.9336    919.54297   775.9219    736.1328    570.4922    918.41797 ]\n",
      " [ 823.67773   902.6699    766.5117    745.3281    572.709     893.3262  ]\n",
      " [ 816.05273   884.89844   760.1426    746.9844    553.50586   896.49805 ]\n",
      " [ 786.31445   868.8633    738.39453   767.91797   614.7246    807.37305 ]\n",
      " [ 776.6172    845.5508    716.19336   778.38086   661.90234   745.0176  ]\n",
      " [ 782.99805   814.89844   699.3906    776.65625   677.9512    725.7988  ]\n",
      " [ 787.9238    781.8867    687.2617    772.73047   682.48047   720.2871  ]\n",
      " [ 781.2363    752.3789    685.1172    769.11523   631.8828    754.1094  ]\n",
      " [ 773.55664   726.61523   685.0449    766.2969    587.959     785.1738  ]\n",
      " [ 740.94727   710.06836   681.084     775.71875   553.5488    782.87305 ]\n",
      " [ 718.59766   693.2168    664.5215    786.9863    589.88086   725.3965  ]\n",
      " [ 707.44336   671.84375   645.03516   794.63086   634.2871    668.5     ]\n",
      " [ 700.0469    647.0117    624.7383    799.4043    677.2246    615.83594 ]\n",
      " [ 701.80664   617.9629    608.6465    798.584     705.1367    586.9336  ]\n",
      " [ 706.72656   588.1992    604.7988    792.43555   681.65234   610.7617  ]\n",
      " [ 686.2793    568.24414   595.61914   794.1172    685.7031    590.5547  ]\n",
      " [ 669.04297   549.1875    589.21094   797.28125   679.0781    581.3633  ]\n",
      " [ 650.71875   533.1797    574.3867    800.66016   709.27344   537.3828  ]\n",
      " [ 632.1406    517.8594    552.7539    805.41016   768.0586    465.76172 ]\n",
      " [ 632.58984   496.8047    537.0781    803.9414    802.9336    431.78906 ]\n",
      " [ 639.02344   476.64062   527.9961    795.9883    816.23047   426.77344 ]\n",
      " [ 637.65234   462.96094   531.2344    787.47266   784.78125   460.15625 ]\n",
      " [ 625.9336    458.44922   527.39453   779.89844   793.01953   451.96094 ]\n",
      " [ 607.7617    459.5       525.01953   776.8711    798.7578    440.09375 ]\n",
      " [ 581.3203    468.17188   505.23828   775.0078    873.15234   356.6914  ]\n",
      " [ 577.47266   469.9961    484.14062   771.6328    955.0781    281.1953  ]\n",
      " [ 585.6914    473.58594   466.76562   760.60547  1024.6406    229.01953 ]\n",
      " [ 609.0664    478.64844   468.32812   743.3281   1030.8555    251.98438 ]\n",
      " [ 624.9883    497.38672   485.35547   720.72266   988.64453   321.0547  ]\n",
      " [ 626.66797   529.6328    504.23438   698.33203   952.5625    378.3047  ]\n",
      " [ 610.59375   574.46094   519.8203    681.1289    936.8242    403.6914  ]\n",
      " [ 594.41797   620.9219    517.1797    665.97656   990.5078    361.39453 ]\n",
      " [ 589.8906    665.7383    506.7422    652.0117   1073.7422    296.83984 ]\n",
      " [ 608.6992    707.1797    496.95312   633.2617   1155.5391    250.04688 ]\n",
      " [ 639.97266   756.3242    500.90625   607.7344   1195.332     256.13672 ]\n",
      " [ 686.91016   787.6133    549.52734   628.41406  1169.6406    353.27734 ]\n",
      " [ 719.0625    793.03906   625.66016   738.5625   1234.6133    394.38672 ]\n",
      " [ 762.4531    807.6758    709.3242    843.8203   1242.6445    482.33594 ]\n",
      " [ 811.2969    837.33984   769.6094    931.66016  1309.5859    512.5039  ]\n",
      " [ 871.08984   862.20703   826.4453   1028.0703   1401.6211    525.39844 ]\n",
      " [ 950.10156   884.3594    888.9922   1126.7539   1482.2031    562.2422  ]\n",
      " [1038.9258    918.77344   957.08984  1222.8594   1549.6406    620.6797  ]\n",
      " [1122.2383    991.8203   1027.8906   1313.7266   1586.7344    696.59375 ]\n",
      " [1217.3672   1060.875    1098.9375   1403.8516   1621.8906    781.8125  ]\n",
      " [1301.4141   1145.1719   1177.9453   1488.9297   1638.1484    891.4922  ]\n",
      " [1343.2422   1202.9453   1236.7578   1556.0156   1723.625     977.125   ]\n",
      " [1403.       1256.0156   1304.1016   1627.1016   1768.3438   1106.7656  ]\n",
      " [1469.1797   1317.4297   1376.4766   1689.5859   1784.7109   1271.4297  ]\n",
      " [1522.1484   1391.5469   1442.5312   1747.8047   1830.4766   1410.2109  ]\n",
      " [1564.5703   1465.0703   1499.0547   1803.5      1852.3047   1569.4844  ]\n",
      " [1593.3828   1535.7422   1547.7422   1851.8828   1850.9844   1761.1953  ]\n",
      " [1605.25     1613.1016   1587.7109   1900.1641   1900.9453   1911.5625  ]\n",
      " [1617.0391   1673.9922   1614.1484   1961.2578   2026.6562   2003.8828  ]\n",
      " [1646.1328   1732.4688   1650.0312   2031.3594   2107.7578   2153.5     ]]\n"
     ]
    },
    {
     "data": {
      "image/png": "[encoded data removed]",
      "text/plain": [
       "<Figure size 432x288 with 1 Axes>"
      ]
     },
     "metadata": {
      "needs_background": "light"
     },
     "output_type": "display_data"
    }
   ],
   "source": [
    "LSTM_rep(daily_reg, lstm, row=\"North Carolina\")"
   ]
  },
  {
   "cell_type": "code",
   "execution_count": 81,
   "metadata": {},
   "outputs": [
    {
     "name": "stderr",
     "output_type": "stream",
     "text": [
      "c:\\users\\sheel\\pycharmprojects\\adbi\\lib\\site-packages\\ipykernel_launcher.py:2: FutureWarning: \n",
      "The current behaviour of 'Series.argmax' is deprecated, use 'idxmax'\n",
      "instead.\n",
      "The behavior of 'argmax' will be corrected to return the positional\n",
      "maximum in the future. For now, use 'series.values.argmax' or\n",
      "'np.argmax(np.array(values))' to get the position of the maximum\n",
      "row.\n",
      "  \n"
     ]
    },
    {
     "data": {
      "text/plain": [
       "Timestamp('2020-07-16 00:00:00')"
      ]
     },
     "execution_count": 81,
     "metadata": {},
     "output_type": "execute_result"
    }
   ],
   "source": [
    "temp = df[\"Total\"]\n",
    "temp.argmax()"
   ]
  },
  {
   "cell_type": "code",
   "execution_count": 89,
   "metadata": {},
   "outputs": [
    {
     "data": {
      "text/plain": [
       "2020-01-23        0.0\n",
       "2020-01-24        1.0\n",
       "2020-01-25        0.0\n",
       "2020-01-26        3.0\n",
       "2020-01-27        0.0\n",
       "               ...   \n",
       "2020-07-14    67417.0\n",
       "2020-07-15    67328.0\n",
       "2020-07-16    77255.0\n",
       "2020-07-17    71558.0\n",
       "2020-07-18    63698.0\n",
       "Name: Total, Length: 178, dtype: float64"
      ]
     },
     "execution_count": 89,
     "metadata": {},
     "output_type": "execute_result"
    }
   ],
   "source": [
    "temp.dropna()"
   ]
  },
  {
   "cell_type": "code",
   "execution_count": null,
   "metadata": {},
   "outputs": [],
   "source": []
  }
 ],
 "metadata": {
  "kernelspec": {
   "display_name": "Python 3",
   "language": "python",
   "name": "python3"
  },
  "language_info": {
   "codemirror_mode": {
    "name": "ipython",
    "version": 3
   },
   "file_extension": ".py",
   "mimetype": "text/x-python",
   "name": "python",
   "nbconvert_exporter": "python",
   "pygments_lexer": "ipython3",
   "version": "3.7.4"
  }
 },
 "nbformat": 4,
 "nbformat_minor": 4
}
